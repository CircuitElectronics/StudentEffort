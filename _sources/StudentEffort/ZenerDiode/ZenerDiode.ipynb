{
 "cells": [
  {
   "cell_type": "markdown",
   "metadata": {},
   "source": [
    "# Zener Diode\n",
    "\n",
    "Author : Saman Hooshvar\n",
    "\n",
    "Contact : saman.hooshvarfeyzabadi@mail.um.ac.ir"
   ]
  },
  {
   "cell_type": "markdown",
   "metadata": {},
   "source": [
    "## What is a Zener Diode?\n",
    "\n",
    "Zener diodes are semiconductor devices that **allow current to flow in both directions** but specialize in current flowing in reverse. Also known as breakdown diodes, Zener diodes are the most common electronic components used as stable voltage references for electronic circuits.\n",
    "\n",
    "American physicist, Dr. Clarence Melvin Zener, first described the electronic properties of Zener diodes while researching the breakdown mechanisms of semiconductor materials. As a theoretical physicist at Bell Labs in New Jersey, he wrote a research paper later published in 1934, identifying a type of electrical breakdown later known as the Zener effect. These specific processes were named after him in the years afterward in his honor.\n",
    "\n",
    "![zenerdiode](zener-diodes-blog-infographic-update-2024.png)"
   ]
  },
  {
   "cell_type": "markdown",
   "metadata": {},
   "source": [
    "## How does a Zener diode work?\n",
    "\n",
    "Current going across the terminals in reverse bias (backward) is called the **Zener effect**. When voltage potential is met, this causes the Zener voltage ($ V_z$)/breakdown voltage. **Zener diodes uniquely consist of a heavily doped P-N junction that allows current to flow in reverse when reaching Vz.** A well-defined $V_z $ can conduct current continuously in reverse bias without getting damaged. Current then increases to a maximum level determined by a series resistor and stabilizes, remaining constant over a range of applied voltages. Therefore, **Zener diodes are applicable for use as voltage regulators**.\n",
    "\n",
    "A Zener diode operates within the normal range of forward bias, with a turn-on voltage between 0.3V and 0.7V. When connected in reverse bias, the current flows backward, thus causing a small leakage of current to flow. As the reverse voltage increases to the arranged Vz, current flows throughout the diode. Current increases to a maximum decided by the series resistor and then stabilizes to remain constant over a range of applied voltages.\n",
    "\n",
    "Zener diodes have **two breakdown effects**. Knowing these two effects help with understanding their functionality. **First is the Zener effect, prevalent in voltages below 5.5V** and involves a tunneling effect to cause the breakdown. **The second is the avalanche breakdown or impact ionization which occurs in voltages above 5.5V**. These breakdowns both result in the same behavior, and they do not require different circuitry, but each does have a different temperature coefficient. The Zener effect has an anode (negative) terminal temperature coefficient, while the avalanche has a cathode (positive) terminal temperature coefficient. Both temperature effects are almost equal to 5.5V. They cancel each other out, making Zener diodes rated at around 5.5V and stable over a wide range of temperature requirements.\n",
    "\n",
    "Think of a Zener diode like two diodes in parallel, facing opposite directions. The voltage that's forward bias in a Zener diode has a voltage drop of 1V needed for the diode to turn on for the current to flow. The forward voltage is forward biased. The current flowing backward is considered the Zener voltage or reversed biased due to its properties. An example of the Zener voltage is 3.3V. For the current to flow across the diode, the current must maintain at least a minimum of this voltage. Having a predictable voltage drop makes Zener diodes not only useful as voltage regulators, but a correctly set Zener diode may limit the voltage of other devices."
   ]
  },
  {
   "cell_type": "markdown",
   "metadata": {},
   "source": [
    "## Circuit Symbol of Zener Diode\n",
    "\n",
    "Zener diodes come in various packaging options, depending on their power dissipation requirements. Some are designed for high-power applications, while others are available in surface mount formats. The most commonly used Zener diode is packaged in a small glass enclosure, with a distinctive band indicating the cathode side of the diode.\n",
    "\n",
    "![zenerdiode2](Zener-diode-2.png)"
   ]
  },
  {
   "cell_type": "markdown",
   "metadata": {},
   "source": [
    "## V-I Characteristics of Zener Diode\n",
    "\n",
    "The diagram given below shows the V-I characteristics of the Zener diode.\n",
    "\n",
    "![zenercurve](zener-diode-diagram.png)\n",
    "\n",
    "\n",
    "- **Current $I_z$ (max):** Maximum current at the rated Zener Voltage (Vz – 200μA to 200A).\n",
    "\n",
    "- **Current $I_z$ (min):** Minimum current value required for a diode to break down.\n",
    "\n",
    "- **Forward Bias:** Voltage going across a diode that allows the current to flow easily in one direction.\n",
    "\n",
    "- **Power Rating:** Denotes the maximum power the Zener diode can dissipate and is a product of the diode voltage/current flowing through it.\n",
    "\n",
    "- **Reverse Bias/Zener Effect:** Voltage going across a diode in the opposite direction of forward bias, this particular voltage doesn't cause any detectable current to flow, changes AC to DC current, and manipulates other electronic signals.\n",
    "\n",
    "- **Temperature Stability:** Diodes around 5V have the best stability.\n",
    "\n",
    "- **Voltage Tolerance:** Typically ±5%\n",
    "\n",
    "- **Zener/Breakdown Voltage ($V_z$):** This is the minimum voltage that causes a portion of an insulator to experience a breakdown and become electrically conductive. Voltage ranges from 2.4V to 200V and can go up to 1kV, while the maximum for the surface-mounted device is 47V.\n",
    "\n",
    "- **Zener Resistance ($ R_z$):** The resistance exhibited to the Zener diode.\n"
   ]
  },
  {
   "cell_type": "markdown",
   "metadata": {},
   "source": [
    "## Zener diode application\n",
    "\n",
    "- **Surge Suppressor:** An electrical device, also known as a surge protector, that is used to protect equipment against power surges and voltage spikes while blocking voltage over a safe threshold of approximately 120V.\n",
    "\n",
    "- **Switching Signals**: An output signal switching device (or OSSD) is an electronic device in a machine's safety system that provides a coded signal that, when interrupted due to a safety event, signals the machine to shut down. This helps avoid a stray signal operating a machine during unsafe conditions.\n",
    "\n",
    "- **Voltage Regulator:** When the load voltage equals the Zener voltage of the diode, the series-connected resistors limit the current through the diode. This serves to regulate voltage when there is an excess amount of voltage while the diode is conducting. The diode generates noise which can be suppressed by adding a large value decoupling capacitor across the diode.\n",
    "\n",
    "- **Voltage Shifter:** When applied to a circuit with a resistor, Zener diodes act as voltage shifters. The circuit lowers the output voltage equal to the diodes’ Zener voltage.\n",
    "\n",
    "- **Waveform Clipper:** Reshapes a signal and prevents voltage spikes from affecting circuits connected to a power supply. "
   ]
  },
  {
   "cell_type": "markdown",
   "metadata": {},
   "source": [
    "## Zener diode problems\n",
    "\n",
    "### Problem 1\n",
    "\n",
    "For the circuit shown in Fig.1 (i), find : (i) the output voltage (ii) the voltage drop across series resistance (iii) the current through zener diode.\n",
    "\n",
    "![ex1](ex1.png)\n",
    "\n",
    "#### Solution\n",
    "\n",
    "If you remove the zener diode in Fig. 1, the voltage V across the open-circuit is given by :\n",
    "\n",
    "$V = \\frac{R_L E_i}{R+R_L} = \\frac{10*120}{5+10} = 80V $\n",
    "\n",
    "Since voltage across zener diode is greater than VZ (= 50 V), the zener is in the “on” state. It can, therefore, be represented by a battery of $50V$ as shown in.\n",
    "\n",
    "![ex1](ex1-2.png)\n",
    "\n",
    "So the answer to (i) is:\n",
    "\n",
    "$V_out = V_Z = 50V$\n",
    "\n",
    "Answer to (ii) is:\n",
    "\n",
    "Voltage drop across $R = V_{in} - V_z = 120 - 50 = 70V$\n",
    "\n",
    "Answer to (iii) is:\n",
    "\n",
    "$I_L = \\frac{V_Z}{R_L} = \\frac{50}{10} = 5mA$\n",
    "\n",
    "$I_R = \\frac{70}{5} = 14mA$\n",
    "\n",
    "By apllying KCL we have:\n",
    "\n",
    "$I = I_L + I_Z$\n",
    "$I_z = I-I_L = 14-5 = 9mA$"
   ]
  },
  {
   "cell_type": "markdown",
   "metadata": {},
   "source": [
    "### Problem 2\n",
    "\n",
    "A 7.2 V zener is used in the circuit shown in Fig. 3 and the load current is to vary from 12 to 100 mA. Find the value of series resistance R to maintain a voltage of 7.2 V across the load. The input voltage is constant at 12V and the minimum zener current is 10 mA.\n",
    "\n",
    "![zener2](ex2.png)\n",
    "\n",
    "#### Solution\n",
    "\n",
    "$E_i = 12V$\n",
    "\n",
    "$V_z = 7.2V$\n",
    "\n",
    "$R = \\frac{E_i - E_0}{I_Z + I_L} $\n",
    "\n",
    "The voltage across R is to remain constant at 12 − 7.2 = 4.8 V as the load current changes from 12 to 100 mA. **The minimum zener current will occur when the load current is maximum.**\n",
    "\n",
    "$R = \\frac{E_i - E_0}{(I_Z)_{min} + (I_L)_{max}} = \\frac {12-7.2}{(10+100)mA} = \\frac{4.8}{110} = 43.5 Ω$\n",
    "\n",
    "If R = 43.5 Ω is inserted in the circuit, the output voltage will remain constant over the regulating range. As the load current $I_L$ decreases, the zener current $I_Z$ will increase to such a value that $IZ + IL = 110 mA.$\n",
    "\n",
    "Note that if load resistance is open-circuited, then $I_L = 0$ and zener current becomes 110 mA."
   ]
  },
  {
   "cell_type": "markdown",
   "metadata": {},
   "source": [
    "### Problem 3\n",
    "\n",
    "The zener diode shown in Fig. 4 has $V_Z = 18 V$. The voltage across the load stays at 18 V as long as $I_Z$ is maintained between 200 mA and 2 A. Find the value of series  resistance R so that $E_0$ remains 18 V while input voltage $E_i$ is free to vary between 22 V to 28V.\n",
    "\n",
    "![ex3](ex3.png)\n",
    "\n",
    "#### Solution\n",
    "\n",
    "The zener current will be minimum (i.e. 200 mA) when the input voltage is minimum (i.e. 22 V). The load current stays at constant value $I_L = \\frac{V_Z}{R_L} = 1 A = 1000 mA.$\n",
    "\n",
    "$R = \\frac{E_i - E_0}{(I_Z)_{min} + (I_L){max}} = \\frac{22-18}{200+100} = 3.33Ω $\n"
   ]
  },
  {
   "cell_type": "markdown",
   "metadata": {},
   "source": [
    "## Conclusion\n",
    "\n",
    "Some notable manufacturers of Zener diodes include Nexperia, Vishay, ROHM, and Toshiba. These manufacturers produce Zener diodes for use in a variety of electronic components specializing in industries like consumer electronics, automotive, telecommunications, computing, industrial, and more. Zener diodes are small components that play a big role in the devices that serve industry professionals and everyday consumers and they will continue to do so for years to come."
   ]
  },
  {
   "cell_type": "markdown",
   "metadata": {},
   "source": [
    "## Refrences\n",
    "\n",
    "1 - https://www.tti.com/content/ttiinc/en/resources/blog/what-is-a-zener-diode.html\n",
    "\n",
    "2 - https://en.wikipedia.org/wiki/Zener_diode\n",
    "\n",
    "3 - https://byjus.com/physics/zener-diode/\n",
    "\n",
    "4 - https://electronicspost.com/solved-problems-on-zener-diode/"
   ]
  }
 ],
 "metadata": {
  "kernelspec": {
   "display_name": "Python 3",
   "language": "python",
   "name": "python3"
  },
  "language_info": {
   "codemirror_mode": {
    "name": "ipython",
    "version": 3
   },
   "file_extension": ".py",
   "mimetype": "text/x-python",
   "name": "python",
   "nbconvert_exporter": "python",
   "pygments_lexer": "ipython3",
   "version": "3.12.3"
  }
 },
 "nbformat": 4,
 "nbformat_minor": 2
}
