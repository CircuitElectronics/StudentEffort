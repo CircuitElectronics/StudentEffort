{
 "cells": [
  {
   "cell_type": "markdown",
   "source": [
    "# RESISTOR & CAPACITOR DATA\n",
    "Author : Kourosh Arfae Shahidi  \n",
    "\n",
    "Email : kourosh.a.shahidi@gmail.com  \n",
    "\n",
    "fall 2024"
   ],
   "metadata": {
    "collapsed": false
   },
   "id": "cd213d0d90eb8986"
  },
  {
   "cell_type": "markdown",
   "source": [
    "## Introduction\n",
    "In electronic circuits, resistors and capacitors are fundamental components that play a crucial role in controlling and managing current and voltage. These two components are widely used in various circuits to regulate performance and ensure that electronic devices operate properly. The accurate and appropriate selection of resistor and capacitor values, based on established standards, is key to optimizing circuit performance and achieving design objectives. One of the most commonly used standards is the E-series, which provides standard resistor values such as E12, E24, and E96, tailored to meet practical design needs. Similarly, capacitors come in a wide range of values, selected based on factors like the type of circuit, required precision, and stability.  \n",
    "  \n",
    "This research explores the standard resistor values, focusing on the E-series, and also investigates the various capacitor values. It will further discuss the differences in the structure and materials used in manufacturing these components, providing a deeper understanding of how they function and their applications in electronic circuit design. For any circuit designer, a solid grasp of these components and their values is essential, as the efficient use of resistors and capacitors can significantly enhance the accuracy, stability, and overall performance of electronic systems."
   ],
   "metadata": {
    "collapsed": false
   },
   "id": "f3b9e656679ec7e2"
  },
  {
   "cell_type": "markdown",
   "id": "af2be18e684662d",
   "metadata": {
    "collapsed": false
   },
   "source": [
    "## Resistors\n",
    "## What is Resistor\n",
    "The resistor is a passive electrical component that creates resistance in the flow of electric current. In almost all electrical networks and electronic circuits they can be found. The resistance is measured in ohms (Ω). An ohm is the resistance that occurs when a current of one ampere (A) passes through a resistor with a one volt (V) drop across its terminals.  \n",
    "  \n",
    "> $R = \\frac{V}{I}$\n"
   ]
  },
  {
   "cell_type": "markdown",
   "id": "c4458431b5d6c109",
   "metadata": {
    "collapsed": false
   },
   "source": [
    "## Types of Resistors by resistance value\n",
    "### Fixed Resistor\n",
    "Fixed resistors are electronic components designed to provide a constant resistance value in a circuit. Their resistance cannot be changed or adjusted, meaning they offer a fixed amount of opposition to the flow of electrical current. These resistors are fundamental to controlling current and voltage in nearly all electronic devices and systems.  \n",
    "  \n",
    "Fixed resistors are available in a wide range of resistance values, from fractions of an ohm to several mega ohms, and are used based on the specific needs of the circuit. They come in various types, each with unique characteristics, such as carbon composition, metal film, and wire wound resistors.  \n",
    "  \n",
    "The key benefits of fixed resistors are their reliability, simplicity, and ease of use. Once placed in a circuit, they maintain their set resistance value without requiring further adjustments. This makes them essential for applications where consistent performance is critical, such as in signal processing, power distribution, and various control circuits.\n"
   ]
  },
  {
   "cell_type": "markdown",
   "id": "8ccfff7ec1dfd09b",
   "metadata": {
    "collapsed": false
   },
   "source": [
    "#### Carbon-Composition Resistors\n",
    "Carbon composition resistors (CCR) consist of a solid cylindrical resistive element with embedded wire leads or metal end caps to which the lead wires are attached. The body of the resistor is protected with paint or plastic. Early 20th-century carbon composition resistors had uninsulated bodies; the lead wires were wrapped around the ends of the resistance element rod and soldered. The completed resistor was painted for color-coding of its value.  \n",
    "  \n",
    "![title](pictures/Image1.jpg)\n",
    "  \n",
    "The resistive element in carbon composition resistors is made from a mixture of finely powdered carbon and an insulating material, usually ceramic. A resin holds the mixture together. The resistance is determined by the ratio of the fill material (the powdered ceramic) to the carbon.  \n",
    "  \n",
    "The big advantage of carbon composition resistors is their ability to withstand high energy pulses. When current flows through the resistor, the entire carbon composition body conducts the energy. \n"
   ]
  },
  {
   "cell_type": "markdown",
   "id": "c7f5f879eaac8d1a",
   "metadata": {
    "collapsed": false
   },
   "source": [
    "#### Wire Wound Resistors\n",
    "Wire wound resistors are commonly made by winding a metal wire, usually nichrome, around a ceramic, plastic, or fiberglass core. The ends of the wire are soldered or welded to two caps or rings, attached to the ends of the core. The assembly is protected with a layer of paint, molded plastic, or an enamel coating baked at high temperature.  \n",
    "  \n",
    "![title](pictures/Image2.jpg)\n",
    "  \n",
    "In this case, the resistor value is determined by first of all the type of wire and then the diameter. How thick is the wire, the thicker the wire the less the resistance and the length of the wire, the longer the wire the great the resistance. They're used for high power and precise values.\n"
   ]
  },
  {
   "cell_type": "markdown",
   "id": "12673f375fb29cc8",
   "metadata": {
    "collapsed": false
   },
   "source": [
    "### Variable Resistors\n",
    "Variable resistors are electronic components that allow for the adjustment of resistance values within a circuit. Unlike fixed resistors, which provide a constant resistance, variable resistors can be manually or electronically altered, enabling users to control current flow and voltage levels precisely. Common types of variable resistors include potentiometers, which are often used in volume controls and light dimmers, and rheostats, which are typically used for adjusting current in high-power applications. Their versatility makes them essential in various applications, from consumer electronics to industrial equipment, as they enable fine-tuning and calibration of circuit performance to meet specific requirements."
   ]
  },
  {
   "cell_type": "markdown",
   "id": "1d7f1356ab6d48f5",
   "metadata": {
    "collapsed": false
   },
   "source": [
    "## Tolerance\n",
    "Resistor tolerance is a measure of the resistor's variation from the specified value. Resistor tolerance is expressed as a percentage of its nominal value. Typical resistor tolerances are one percent and five percent, with tighter-tolerance resistors being somewhat more expensive. If the resistors have tolerances of less than two percent, typically they are referred to as precision resistors."
   ]
  },
  {
   "cell_type": "markdown",
   "source": [
    "## Standard Resistor Values\n",
    "Fixed resistors come in a variety of types, sizes and resistance values. But to have a resistor available for every possible resistance value calculated, literally millions of individual resistors would need to exist. Clearly this is not practical but instead, resistors are manufactured in what are commonly known as Standard Resistor Values, also known as Preferred values.  \n",
    "  \n",
    "The standardisation of resistor values has several major advantages. Instead of sequential values of resistance from say 1Ω and upwards, certain values of resistors exist within certain tolerance bands which are evenly distributed as best as possible on a logarithmic scale. Also, the use of standard resistor values allows compatibility among resistors from various manufacturers for a given design, which in itself is advantageous for electrical engineers.  \n",
    "  \n",
    "The tolerance band of a fixed resistor is the maximum difference allowed between its actual resistive value and the required or expected resistive value. This difference is commonly expressed as a plus or minus percentage value. For example, a 1kΩ ±20% tolerance resistor may have a maximum and minimum resistive value of:"
   ],
   "metadata": {
    "collapsed": false
   },
   "id": "1fcf96830adaaa7"
  },
  {
   "cell_type": "markdown",
   "source": [
    "### E12 Series\n",
    "The first thing to know is that in each decade of resistance (i.e., from 10 - 100W, 100 - 1kW, 1k - 10kW, etc) there are only a finite number of different nominal values allowed. Most common resistors have values in the __E12__ series, which only has 12 allowed values per decade. Normalised these are 1.0, 1.2, 1.5, 1.8, 2.2, 2.7, 3.3, 3.9, 4.7, 5.6, 6.8 and 8.2. Multiples of these values are simply repeated in each decade , 10, 12, 15, 18 and so on. Note that the __steps__ between these values are always very close to 20%, because the E12 series dates from the days of resistors with ±10% tolerance.  \n",
    "  \n",
    "![title](pictures/Image3.png)\n"
   ],
   "metadata": {
    "collapsed": false
   },
   "id": "4584714b8b95ea7b"
  },
  {
   "cell_type": "markdown",
   "source": [
    "### E24 Series\n",
    "E24 resistor values are part of the E-series standard for preferred resistor values, commonly used in electronic components. The E24 series includes 24 different logarithmically spaced resistance values per decade (e.g., between 10Ω and 100Ω), which allows for a broader range of available resistance options with a standard tolerance of ±5%. These values are chosen to ensure that for any given range, there's sufficient coverage to meet design needs while maintaining reasonable manufacturing precision. E24 resistors are widely used in general-purpose electronics where high precision is not crucial but flexibility in choosing values is important.  \n",
    "  \n",
    "![title](pictures/Image4.jpg)\n"
   ],
   "metadata": {
    "collapsed": false
   },
   "id": "200156c214d4c9c9"
  },
  {
   "cell_type": "markdown",
   "source": [
    "## Resistor Color Code\n",
    "Generally, the resistance value, tolerance, and wattage rating are printed on the body of a resistor as numbers or letters when the resistors body is big enough to read the print, such as large power resistors. but many resistors are so small that it would be difficult to print their value and % tolerance on their body in digits. To overcome this, a coding system based on bands of distinctive colours was developed to assist in identification. Learning this __colour code__ is not as necessary as it used to be (thanks to accurate, low cost digital multimeters!), but it's not hard to learn and its quite useful knowledge anyway.  \n",
    "  \n",
    "The next thing to know is that there are two different resistor colour coding systems in use: one using a total of 4 colour bands, and the other 5.\n"
   ],
   "metadata": {
    "collapsed": false
   },
   "id": "5249fe1e3a67a5ad"
  },
  {
   "cell_type": "markdown",
   "source": [
    "### 5-band Resistor Color Code\n",
    "5-band resistors are more precise and higher quality metal-film axial resistors with tolerance values of 2% or less compared to wire wound or carbon composition resistors.  \n",
    "__the 5-band system is quite capable of handling any resistors with E12 or E24 values__  \n",
    "  \n",
    "![title](pictures/Image5.jpg)\n"
   ],
   "metadata": {
    "collapsed": false
   },
   "id": "bae4ff8582f92cd0"
  },
  {
   "cell_type": "markdown",
   "source": [
    "#### How To Read a 5-band Resistor Colour Code\n",
    "Each coloured band of a fixed value resistor represents the nominal Ohmic value from the 1st to the 3rd coloured band. The decimal multiplier digit is located on the 4th band, and the 5th band indicates the tolerance of 5-band resistor.  \n",
    "  \n",
    "Resistor colour code markings are always read one band at a time starting from the left to the right, with the larger width tolerance band oriented to the right side indicating its tolerance value. Sometimes there is a slight gap between the multiplier and tolerance bands to help you distinguish between the resistors left and right sides.  \n",
    "  \n",
    "![title](pictures/Image6.PNG)\n"
   ],
   "metadata": {
    "collapsed": false
   },
   "id": "41f746625a4f947c"
  },
  {
   "cell_type": "markdown",
   "source": [
    "#### Example\n",
    "Determine the resistance value of the following resistor  \n",
    "  \n",
    "![title](pictures/Image7.PNG)\n",
    "  \n",
    "> Resistance : 125.00 Mega ohms\n",
    "  \n",
    "> Tolerance : ± 5%"
   ],
   "metadata": {
    "collapsed": false
   },
   "id": "d758af4b90534d5f"
  },
  {
   "cell_type": "markdown",
   "source": [
    "### 4-band Resistor Colour Code\n",
    "4-band resistors will almost always have values in the E12 series, while 5-band resistors can have any value in the E24 series.This is worth remembering, because depending on the resistor's body colour, some of the band colours may not be easy to distinguish. Blue (6) and grey (8) sometimes look very similar, as do red (2), brown (1) and orange (3).  \n",
    "  \n",
    "![title](pictures/Image8.PNG)\n"
   ],
   "metadata": {
    "collapsed": false
   },
   "id": "4f5cb2349b307222"
  },
  {
   "cell_type": "markdown",
   "source": [
    "#### How To Read a 4-band Resistor Colour Code\n",
    "The easiest way to identify a resistor colour code is to know which colours represent the most significant digits. Resistor colour code markings are always read one band at a time starting from the left to the right, with the larger width tolerance band oriented to the right side indicating its tolerance.  \n",
    "  \n",
    "By matching the colour of the first band with its associated number in the digit column of the colour chart below the first digit is identified and this represents the first digit of the resistance value.  \n",
    "  \n",
    "![title](pictures/Image9.PNG)\n"
   ],
   "metadata": {
    "collapsed": false
   },
   "id": "2c4fc39701d7ceb2"
  },
  {
   "cell_type": "markdown",
   "source": [
    "#### Example\n",
    "Determine the resistance value of the following resistor  \n",
    "  \n",
    "![title](pictures/Image10.PNG)\n",
    "  \n",
    "> Resistance : 47.00k ohms  \n",
    "  \n",
    "> Tolerance : ± 0.25%"
   ],
   "metadata": {
    "collapsed": false
   },
   "id": "78b619f8640ce357"
  },
  {
   "cell_type": "markdown",
   "source": [
    "## Capacitors \n",
    "## What is Capacitor\n",
    "Capacitors are passive electronic components consisting of two or more pieces of conducting material separated by an insulating material. The capacitor is a component which has the ability or “capacity” to store energy in the form of an electrical charge producing a potential difference (Static Voltage) across its plates, much like a small rechargeable battery.  \n",
    "  \n",
    "By applying a voltage to a capacitor and measuring the charge on the plates, the ratio of the charge Q to the voltage V will give the capacitance value of the capacitor and is therefore given as: $C = \\frac{Q}{V}$ this equation can also be re-arranged to give the familiar formula for the quantity of charge on the plates as: $Q = C \\times V$"
   ],
   "metadata": {
    "collapsed": false
   },
   "id": "7cdddc4cf457d7d2"
  },
  {
   "cell_type": "markdown",
   "source": [
    "## The Capacitance of a Capacitor\n",
    "Capacitance is the electrical property of a capacitor and is the measure of a capacitors ability to store an electrical charge onto its two plates with the unit of capacitance being the Farad (abbreviated to F) named after the British physicist Michael Faraday.  \n",
    "  \n",
    "Capacitance is defined as being that a capacitor has the capacitance of One Farad when a charge of One Coulomb is stored on the plates by a voltage of One volt. Note that capacitance, C is always positive in value and has no negative units. However, the Farad is a very large unit of measurement to use on its own so sub-multiples of the Farad are generally used such as micro-farads, nano-farads and pico-farads, for example."
   ],
   "metadata": {
    "collapsed": false
   },
   "id": "3b44b7991923711d"
  },
  {
   "cell_type": "markdown",
   "source": [
    "## Types of Capacitors\n",
    "The types of capacitor available range from very small delicate trimming capacitors using in oscillator or radio circuits, up to large power metal-can type capacitors used in high voltage power correction and smoothing circuits.  \n",
    "  \n",
    "The comparisons between the the different types of capacitor is generally made with regards to the dielectric used between the plates. Like resistors, there are also variable types of capacitors which allow us to vary their capacitance value for use in radio or “frequency tuning” type circuits."
   ],
   "metadata": {
    "collapsed": false
   },
   "id": "5c1462955444d26b"
  },
  {
   "cell_type": "markdown",
   "source": [
    "### Film Capacitors\n",
    "Film Capacitors are the most commonly available of all types of capacitor, consisting of a relatively large family of capacitors with the difference being in their dielectric properties. These include polyester (Mylar), polystyrene, polypropylene, polycarbonate, metalised paper, Teflon etc. Film types of capacitor are available in capacitance ranges from as small as 5pF to as large as 100uF depending upon the actual type of capacitor and its voltage rating. Film capacitors also come in an assortment of shapes and case styles which include:  \n",
    "  \n",
    "- Wrap & Fill (Oval & Round)  :  where the capacitor is wrapped in a tight plastic tape and have the ends filled with epoxy to seal them.\n",
    "- Epoxy Case (Rectangular & Round)  –  where the capacitor is encased in a moulded plastic shell which is then filled with epoxy.\n",
    "- Metal Hermetically Sealed (Rectangular & Round)  –  where the capacitor is encased in a metal tube or can and again sealed with epoxy.  \n",
    "  \n",
    "Film Capacitors which use polystyrene, polycarbonate or Teflon as their dielectrics are sometimes called “Plastic capacitors”. The main advantage of plastic film types of capacitor compared to impregnated-paper types is that they operate well under conditions of high temperature, have smaller tolerances, a very long service life and high reliability.     \n",
    "  \n",
    "![title](pictures/Image11.png)\n"
   ],
   "metadata": {
    "collapsed": false
   },
   "id": "f358e5eb5f1c39dd"
  },
  {
   "cell_type": "markdown",
   "source": [
    "### Ceramic Capacitor\n",
    "Ceramic Capacitors or Disc Capacitors as they are generally called, are made by coating two sides of a small porcelain or ceramic disc with silver and are then stacked together to make a capacitor. For very low capacitance values a single ceramic disc of about 3-6mm is used. Ceramic capacitors have a high dielectric constant (High-K) and are available so that relatively high capacitance’s can be obtained in a small physical size.  \n",
    "  \n",
    "![title](pictures/Image12.jpg)\n",
    "  \n",
    "They exhibit large non-linear changes in capacitance against temperature and as a result are used as de-coupling or by-pass capacitors as they are also non-polarized devices. Ceramic capacitors have values ranging from a few pico farads to one or two micro farads, ( μF ) but their voltage ratings are generally quite low."
   ],
   "metadata": {
    "collapsed": false
   },
   "id": "2d7cc7373a9fd295"
  },
  {
   "cell_type": "markdown",
   "source": [
    "### Electrolytic Capacitors\n",
    "Electrolytic Capacitors are generally used when very large capacitance values are required. Here instead of using a very thin metallic film layer for one of the electrodes, a semi-liquid electrolyte solution in the form of a jelly or paste is used which serves as the second electrode (usually the cathode).  \n",
    "  \n",
    "![title](pictures/Image13.jpg)\n",
    "  \n",
    "Electrolytic’s generally come in two basic forms; __Aluminium Electrolytic Capacitors__ and __Tantalum Electrolytic Capacitors__."
   ],
   "metadata": {
    "collapsed": false
   },
   "id": "83404f62efb71a67"
  },
  {
   "cell_type": "markdown",
   "source": [
    "## Capacitor Markings and Their Importance\n",
    "Capacitor markings are used for identifying their values and proper usage in electronic circuits. Here's a detailed breakdown of the key aspects to consider:  \n",
    "  \n",
    "On smaller capacitors, you often find only the capacitance value. For larger capacitors, two main parameters are displayed: capacitance and breakdown voltage. Capacitance is usually indicated in microfarads (μF). For instance, \"150μF\" clearly denotes 150 microfarads. Alternatively, a three-digit code might be used, like \"224,\" which translates to 220,000 picofarads (pF). This is calculated from 22 x 10^4. In these codes: The last digit shows the power of ten (e.g., 1-6). Numbers 8 and 9 convert to multipliers of 0.01 and 0.1 respectively. This parameter indicates the maximum voltage the capacitor can handle before failing. It is usually marked directly with a value, such as \"25V.\"  \n",
    "Also, sometimes capacitors are marked with the capital letter K to signify a value of one thousand pico-Farads, so for example, a capacitor with the markings of 100K would be 100 x 1000pF or 100nF.  \n",
    "  \n",
    "Polarized capacitors have a clear marker to denote the negative side, often a color stripe (white or black). This ensures correct installation by highlighting the polarity. These markings help in selecting and applying capacitors correctly in circuits. It can also prevent common mistakes in electronic designs and installations. Proper capacitor placement and selection enhance the reliability of electronic devices and protect components from potential damage."
   ],
   "metadata": {
    "collapsed": false
   },
   "id": "e1cd269eae270590"
  },
  {
   "cell_type": "markdown",
   "source": [
    "## Capacitor Marking Codes\n",
    "Capacitors use various marking systems based on their type, size, and manufacturing specifications. The Electronic Industry Alliance (EIA) has standardized these markings to ensure uniform identification across different manufacturers and types. EIA standardization simplifies maintenance, repairs, and integration of capacitors into electronic designs. This consistency enhances efficiency and reliability."
   ],
   "metadata": {
    "collapsed": false
   },
   "id": "f442e14bae66229e"
  },
  {
   "cell_type": "markdown",
   "source": [
    "### Non-Coded Markings on Capacitors\n",
    "For larger capacitors, specifications like capacitance and voltage ratings are printed directly on the casing. These markings are non-coded, clear, and unabbreviated, making the parameters immediately visible and understandable. This straightforward marking method allows users to quickly and accurately assess capacitor specifications during installation, maintenance, or troubleshooting tasks. The ease of identification ensures that key details are always in view.  \n",
    "  \n",
    "With clear visibility of capacitance and voltage ratings, decision-making becomes swift and precise. This reduces the risk of errors and enhances operational efficiency in electronic setups. Accurate component handling can maintain the reliability and performance of electronic systems."
   ],
   "metadata": {
    "collapsed": false
   },
   "id": "4eecfa829a4bcc37"
  },
  {
   "cell_type": "markdown",
   "source": [
    "### Abbreviated Capacitor Marking Codes\n",
    "In smaller capacitors, where space is limited, manufacturers use abbreviated marking codes. These codes use significant figures and multipliers to accurately identify capacitance values. This system is ideal for miniaturized electronics, such as surface-mount devices, where space optimization is required. These compact codes help ensure that the correct capacitors are selected and installed, preserving the integrity and performance of the electronic device. Despite their concise nature, these markings require a strong familiarity with standard coding conventions to avoid errors in component selection and application."
   ],
   "metadata": {
    "collapsed": false
   },
   "id": "fbd1cc95c10cfae2"
  },
  {
   "cell_type": "markdown",
   "source": [
    "### Capacitor Color Codes\n",
    "To reduce the confusion regarding letters, numbers and decimal points, an International colour coding scheme was developed many years ago as a simple way of identifying capacitor values and tolerances. It consists of coloured bands (in spectral order) known commonly as a Capacitor Colour Codes system.  \n",
    "  \n",
    "![title](pictures/Image14.jpg)\n"
   ],
   "metadata": {
    "collapsed": false
   },
   "id": "982293386e2de67d"
  },
  {
   "cell_type": "markdown",
   "source": [
    "#### Capacitor Colour Code Table\n",
    "Generally the code consists of 2 or 3 numbers and an optional tolerance letter code to identify the tolerance. Where a two number code is used the value of the capacitor only is given in picofarads, for example, 47 = 47 pF and 100 = 100pF etc. A three-letter code consists of the two value digits and a multiplier much like the resistor colour codes in the resistors section.  \n",
    "  \n",
    "![title](pictures/Image15.png)\n"
   ],
   "metadata": {
    "collapsed": false
   },
   "id": "19969095fb61769c"
  },
  {
   "cell_type": "markdown",
   "source": [
    "#### Capacitor Voltage Colour Code Table\n",
    "It is also possible to determine the voltage rating in this way  \n",
    "  \n",
    "![title](pictures/Image16.png)\n"
   ],
   "metadata": {
    "collapsed": false
   },
   "id": "529201d42cc60663"
  },
  {
   "cell_type": "markdown",
   "source": [
    "#### Capacitor Voltage Reference\n",
    "Type J  –  Dipped Tantalum Capacitors.\n",
    "Type K  –  Mica Capacitors.\n",
    "Type L  –  Polyester/Polystyrene Capacitors.\n",
    "Type M  –  Electrolytic 4 Band Capacitors.\n",
    "Type N  –  Electrolytic 3 Band Capacitors."
   ],
   "metadata": {
    "collapsed": false
   },
   "id": "c98c887b167948db"
  },
  {
   "cell_type": "markdown",
   "source": [
    "#### Example\n",
    "Specify the value of capacitance, voltage rating and tolerance in the capacitor below  \n",
    "  \n",
    "![title](pictures/Image17.jpg) \n",
    "  \n",
    "> Capacitance : 10 nF\n",
    "  \n",
    "> Tolerance : 20%  \n",
    "  \n",
    "> Voltage Rating : 100V"
   ],
   "metadata": {
    "collapsed": false
   },
   "id": "fe11ce04116a8f9d"
  },
  {
   "cell_type": "markdown",
   "source": [
    "### Capacitor Tolerance Codes\n",
    "Capacitors use tolerance codes, much like resistors, standardized by the Electronic Industry Alliance (EIA). These codes indicate how much the actual capacitance may deviate from the marked value. This precision is ideal for designing and maintaining high-accuracy circuits.  \n",
    "  \n",
    "![title](pictures/Image18.png)\n",
    "  \n",
    "for example consider the capacitor below:\n",
    "  \n",
    "![title](pictures/Image19.png)\n",
    "  \n",
    "The capacitor on the left is of a ceramic disc type capacitor that has the code 473J printed onto its body. Then the 4 = 1st digit, the 7 = 2nd digit, the 3 is the multiplier in pico-Farads, pF and the letter J is the tolerance and this translates to:  $47pF \\times 1,000$ (3 zero’s) = 47,000 pF, 47nF or 0.047uF the J indicates a tolerance of +/- 5%"
   ],
   "metadata": {
    "collapsed": false
   },
   "id": "3de3889fb0d77292"
  },
  {
   "cell_type": "markdown",
   "source": [
    "### Capacitor Working Voltage Codes\n",
    "The voltage rating on a capacitor indicates the maximum voltage it can safely handle. This parameter is ensuring safety and performance, as it prevents over-voltage failures that can damage both the capacitor and the surrounding circuitry.  \n",
    "  \n",
    "![title](pictures/Image20.png)\n"
   ],
   "metadata": {
    "collapsed": false
   },
   "id": "ef67b0dc00d575c"
  },
  {
   "cell_type": "markdown",
   "source": [
    "### Temperature Coefficient Codes on Capacitors\n",
    "Capacitors often have markings indicating their temperature coefficients, which show how capacitance changes with temperature. These codes are used for applications requiring consistent performance despite temperature fluctuations, such as precision electronic circuits.  \n",
    "  \n",
    "Temperature coefficient codes help ensure that electronic devices function reliably under varying environmental conditions. Knowing how to select capacitors based on these codes can maintain stability and functionality in temperature-sensitive applications.  \n",
    "  \n",
    "![title](pictures/Image21.png)\n"
   ],
   "metadata": {
    "collapsed": false
   },
   "id": "753324c8887e010f"
  },
  {
   "cell_type": "markdown",
   "source": [
    "### Capacitor Polarity Markings\n",
    "Polarity is used when using polarized capacitors, such as electrolytic and tantalum types. These capacitors have clear polarity indicators, like plus (+) and minus (-) signs or a distinctive stripe, to guide proper installation in circuits.  \n",
    "Aligning these polarity markings with the circuit's polarity can prevent damage caused by reverse insertion. Quick and accurate identification and alignment of these markings during installation ensure the capacitors function correctly."
   ],
   "metadata": {
    "collapsed": false
   },
   "id": "386d72f44d1d476f"
  },
  {
   "cell_type": "markdown",
   "source": [
    "## Markings for Different Types of Capacitors\n",
    "### Material Codes for Plastic Film Capacitors\n",
    "Capacitors which use a plastic film dielectric are identified using the following codes:  \n",
    "  \n",
    "MKT     &emsp;&emsp;&emsp;Metallised Polyester (PETP)  \n",
    "KS      &ensp;&ensp;&emsp;&emsp;&emsp;Polystyrene film/foil  \n",
    "MKC     &emsp;&emsp;&emsp;Metallised Polycarbonate  \n",
    "KP      &ensp;&ensp;&emsp;&emsp;&emsp;Polypropylene film/foil  \n",
    "KT      &ensp;&ensp;&emsp;&emsp;&emsp;Polyester film/foil  \n",
    "MKP     &emsp;&emsp;&emsp;Metallised polypropylene  "
   ],
   "metadata": {
    "collapsed": false
   },
   "id": "5f0b75bc8779ead"
  },
  {
   "cell_type": "markdown",
   "source": [
    "### Ceramic Capacitor Colour coding for Temperature Coefficient\n",
    "Capacitors which use a plastic dielectric have a very low temperature coefficient (tempco), their capacitance scarcely varies with temperature, and can generally be regarded as 'stable'. However this isn't true with many ceramic-dielectric types. Many of the ceramic materials produce a negative tempco, where capacitance decreases with temperature, while a few give a positive tempco where capacitance increases with temperature.  \n",
    "  \n",
    "By careful mixing of materials, manufacturers can produce a ceramic which gives a tempco very close to zero, but the resulting dielectric constant is also quite low. That is why such 'NP0' capacitors are normally only available in relatively low values , less than about 200pF, typically."
   ],
   "metadata": {
    "collapsed": false
   },
   "id": "3873e3ed33488d53"
  },
  {
   "cell_type": "markdown",
   "source": [
    "#### Color Code\n",
    "The following colour bands are used on ceramic capacitors to indicate their tempco. Note that 'P' indicates a positive tempco and 'N' a negative one, with the number indicating parts per million per degree C.  \n",
    "  \n",
    "![title](pictures/Image22.png)\n"
   ],
   "metadata": {
    "collapsed": false
   },
   "id": "5a933486a1e5f0ee"
  },
  {
   "cell_type": "markdown",
   "source": [
    "### Electrolytic Capacitors\n",
    "Electrolytic capacitors take advantage of the ability of some metal oxides to act as an excellent insulator (at low voltages) and also form a dielectric material with a very high dielectric constant 'K'. Most common electrolytic capacitors use aluminium oxide as the dielectric, but special-purpose and low leakage types generally use tantalum oxide.  \n",
    "  \n",
    "The main shortcoming of electrolytic capacitors is that the insulating and dielectric properties of the metallic oxides are polarity sensitive  so most electrolytic capacitors must be connected into circuit so that voltage is always applied to them with the correct polarity (which is marked on their body). The only exception is 'non polarised' or bipolar (BP) electrolytics, which are effectively two electrolytics in series back-to-back.  \n",
    "  \n",
    "Because the oxide dielectric layer in electrolytic capacitors is extremely thin, these capacitors are more prone to breakdown at higher voltages. So all electrolytics are clearly marked in terms of their safe maximum operating voltage.  \n",
    "  \n",
    "__In most cases electrolytics also have their capacitance value shown directly on the case as well.__\n",
    "\n"
   ],
   "metadata": {
    "collapsed": false
   },
   "id": "67f24311e8403ff1"
  },
  {
   "cell_type": "markdown",
   "source": [
    "#### Aluminium Electrolytic Capacitors\n",
    "The three most common types of aluminium electrolytic in current use are the axial-lead or RT type, the radial-lead or RB type (for vertical mounting on PC boards) and the chassis-mounting or RG type. There's also a variation on the RB type called the RP, with a third lead for orientation and added support."
   ],
   "metadata": {
    "collapsed": false
   },
   "id": "4891241f61b549c2"
  },
  {
   "cell_type": "markdown",
   "source": [
    "#### Tantalum Electrolytic Capacitors\n",
    "The most common type of tantalum electrolytic in current use is the solid or TAG tantalum type, where the tantalum oxide dielectric is formed on the surface of a solid block of sintered tantalum granules. These capacitors provide low leakage and very high capacitance in a very small volume, but are limited to quite low voltages  typically less than 33V."
   ],
   "metadata": {
    "collapsed": false
   },
   "id": "2cb2546d3c016ff0"
  },
  {
   "cell_type": "markdown",
   "source": [
    "## Conclusion\n",
    "In this mini-project, we first introduced resistors and their types based on resistance values. Then, we discussed standard resistor values, the E-series, and resistor color codes, which typically consist of four or five colored bands. Next, we moved on to capacitors. After introducing the different types of capacitors, we examined capacitor marking codes, including color codes, tolerance codes, and temperature codes , etc. Additionally, we provided a more detailed explanation of the labeling for each capacitor type.  \n",
    "Ultimately, by understanding these topics, one can easily obtain practical and useful information when dealing with resistors or capacitors."
   ],
   "metadata": {
    "collapsed": false
   },
   "id": "7b6125a68f2a9566"
  },
  {
   "cell_type": "markdown",
   "source": [
    "## Sources\n",
    "- https://www.electronics-tutorials.ws/resources/standard-resistor-values.html\n",
    "- https://www.electronics-tutorials.ws/resources/4-band-resistor-colour-code-calculator.html\n",
    "- https://en.wikipedia.org/wiki/Resistor\n",
    "- https://eepower.com/resistor-guide/resistor-standards-and-codes/resistor-values/#\n",
    "- https://www.electronics-tutorials.ws/capacitor/cap_1.html\n",
    "- https://www.electronics-tutorials.ws/capacitor/cap_2.html\n",
    "- https://www.electronics-tutorials.ws/capacitor/cap_5.html\n",
    "- https://www.ic-components.com/blog/capacitor-codes-capacitor-markings-and-tolerance-code-chart.jsp#3.%20Capacitor%20Marking%20Codes"
   ],
   "metadata": {
    "collapsed": false
   },
   "id": "784a91a9b365864c"
  }
 ],
 "metadata": {
  "kernelspec": {
   "display_name": "Python 3 (ipykernel)",
   "language": "python",
   "name": "python3"
  },
  "language_info": {
   "codemirror_mode": {
    "name": "ipython",
    "version": 3
   },
   "file_extension": ".py",
   "mimetype": "text/x-python",
   "name": "python",
   "nbconvert_exporter": "python",
   "pygments_lexer": "ipython3",
   "version": "3.11.7"
  }
 },
 "nbformat": 4,
 "nbformat_minor": 5
}
