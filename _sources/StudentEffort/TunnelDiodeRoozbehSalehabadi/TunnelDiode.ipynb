{
 "cells": [
  {
   "cell_type": "markdown",
   "metadata": {
    "collapsed": false
   },
   "source": [
    "# What is a Tunnel Diode?\n",
    "\n",
    "Author: Roozbeh Salehabadi\n",
    "\n",
    "The tunnel diode is also known as the \"Esaki Diode\". It was invented by \"Leo Esaki\" in 1957, and for this invention, he received Nobel in 1973. Leo Esaki observed that if a semiconductor diode is heavily doped with impurities, it will exhibit negative resistance. Negative resistance means the current across the tunnel diode decreases when the voltage increases.\n",
    "A tunnel diode is also known as Esaki diode which is named after Leo Esaki for his work on the tunneling effect. The operation of tunnel diode depends on the quantum mechanics principle known as “Tunneling”. In electronics, tunneling means a direct flow of electrons across the small depletion region from n-side conduction band into the p-side valence band.\n",
    "The circuit symbol of tunnel diode is shown in the below figure. In tunnel diode, the p-type semiconductor act as an anode and the n-type semiconductor act as a cathode."
   ]
  },
  {
   "cell_type": "code",
   "execution_count": 11,
   "metadata": {
    "collapsed": false
   },
   "outputs": [
    {
     "data": {
      "image/png": "[encoded data removed]",
      "image/svg+xml": [
       "<?xml version=\"1.0\" encoding=\"utf-8\" standalone=\"no\"?>\n",
       "<!DOCTYPE svg PUBLIC \"-//W3C//DTD SVG 1.1//EN\"\n",
       "  \"http://www.w3.org/Graphics/SVG/1.1/DTD/svg11.dtd\">\n",
       "<svg xmlns:xlink=\"http://www.w3.org/1999/xlink\" width=\"117.36pt\" height=\"27.36pt\" viewBox=\"0 0 117.36 27.36\" xmlns=\"http://www.w3.org/2000/svg\" version=\"1.1\">\n",
       " <metadata>\n",
       "  <rdf:RDF xmlns:dc=\"http://purl.org/dc/elements/1.1/\" xmlns:cc=\"http://creativecommons.org/ns#\" xmlns:rdf=\"http://www.w3.org/1999/02/22-rdf-syntax-ns#\">\n",
       "   <cc:Work>\n",
       "    <dc:type rdf:resource=\"http://purl.org/dc/dcmitype/StillImage\"/>\n",
       "    <dc:date>2025-01-12T21:06:40.795593</dc:date>\n",
       "    <dc:format>image/svg+xml</dc:format>\n",
       "    <dc:creator>\n",
       "     <cc:Agent>\n",
       "      <dc:title>Matplotlib v3.6.3, https://matplotlib.org/</dc:title>\n",
       "     </cc:Agent>\n",
       "    </dc:creator>\n",
       "   </cc:Work>\n",
       "  </rdf:RDF>\n",
       " </metadata>\n",
       " <defs>\n",
       "  <style type=\"text/css\">*{stroke-linejoin: round; stroke-linecap: butt}</style>\n",
       " </defs>\n",
       " <g id=\"figure_1\">\n",
       "  <g id=\"patch_1\">\n",
       "   <path d=\"M 0 27.36 \n",
       "L 117.36 27.36 \n",
       "L 117.36 0 \n",
       "L 0 0 \n",
       "z\n",
       "\" style=\"fill: #ffffff\"/>\n",
       "  </g>\n",
       "  <g id=\"axes_1\">\n",
       "   <g id=\"patch_2\">\n",
       "    <path d=\"M 52.38 4.68 \n",
       "L 64.98 13.68 \n",
       "L 52.38 22.68 \n",
       "L 52.38 4.68 \n",
       "z\n",
       "\" clip-path=\"url(#pd1ac69dc45)\" style=\"fill: none; stroke: #000000; stroke-width: 2; stroke-linecap: round\"/>\n",
       "   </g>\n",
       "   <g id=\"line2d_1\">\n",
       "    <path d=\"M 4.68 13.68 \n",
       "L 52.38 13.68 \n",
       "M 64.98 4.68 \n",
       "L 64.98 22.68 \n",
       "M 64.98 13.68 \n",
       "L 112.68 13.68 \n",
       "\" clip-path=\"url(#pd1ac69dc45)\" style=\"fill: none; stroke: #000000; stroke-width: 2; stroke-linecap: round\"/>\n",
       "   </g>\n",
       "   <g id=\"line2d_2\">\n",
       "    <path d=\"M 64.98 4.68 \n",
       "L 61.38 4.68 \n",
       "\" clip-path=\"url(#pd1ac69dc45)\" style=\"fill: none; stroke: #000000; stroke-width: 2; stroke-linecap: round\"/>\n",
       "   </g>\n",
       "   <g id=\"line2d_3\">\n",
       "    <path d=\"M 64.98 22.68 \n",
       "L 61.38 22.68 \n",
       "\" clip-path=\"url(#pd1ac69dc45)\" style=\"fill: none; stroke: #000000; stroke-width: 2; stroke-linecap: round\"/>\n",
       "   </g>\n",
       "  </g>\n",
       " </g>\n",
       " <defs>\n",
       "  <clipPath id=\"pd1ac69dc45\">\n",
       "   <rect x=\"0\" y=\"-0\" width=\"117.36\" height=\"27.36\"/>\n",
       "  </clipPath>\n",
       " </defs>\n",
       "</svg>\n"
      ],
      "text/plain": [
       "<schemdraw.backends.mpl.Figure object at 0x000001AAB1D806D0>"
      ]
     },
     "metadata": {},
     "output_type": "display_data"
    }
   ],
   "source": [
    "import schemdraw\n",
    "from schemdraw import elements as elm\n",
    "\n",
    "with schemdraw.Drawing():\n",
    "    elm.DiodeTunnel()"
   ]
  },
  {
   "cell_type": "markdown",
   "metadata": {
    "collapsed": false
   },
   "source": [
    "# Doping in a Tunnel Diode\n",
    "Doping in diodes involves adding impurities to a semiconductor material, such as silicon or gallium arsenide, to create regions with excess electrons (n-type) or holes (p-type), forming a p-n junction. The level of doping controls the diode's electrical characteristics, including its forward and reverse current behavior. In tunnel diodes, doping is extremely high—about 1000 times greater than a normal diode—resulting in a very narrow depletion region. The depletion region is a region in a p-n junction diode where mobile charge carriers (free electrons and holes) are absent. Depletion region acts like a barrier that opposes the flow of electrons from the n-type semiconductor and holes from the p-type semiconductor."
   ]
  },
  {
   "cell_type": "markdown",
   "metadata": {
    "collapsed": false
   },
   "source": [
    "![WorkingOfTunnelDiode](./TunnelDiode/WorkingOfTunnelDiode.png)"
   ]
  },
  {
   "cell_type": "markdown",
   "metadata": {
    "collapsed": false
   },
   "source": [
    "# What is Tunneling?\n",
    "In tunnel diode, the valence band and conduction band energy levels in the n-type semiconductor are lower than the valence band and conduction band energy levels in the p-type semiconductor. Unlike the ordinary p-n junction diode, the difference in energy levels is very high in tunnel diode. Because of this high difference in energy levels, the conduction band of the n-type material overlaps with the valence band of the p-type material.\n",
    "Quantum mechanics says that the electrons will directly penetrate through the depletion layer or barrier if the depletion width is very small.\n",
    "The depletion layer of tunnel diode is very small. It is in nanometers. So the electrons can directly tunnel across the small depletion region from n-side conduction band into the p-side valence band."
   ]
  },
  {
   "cell_type": "markdown",
   "metadata": {
    "collapsed": false
   },
   "source": [
    "![Barrier](./TunnelDiode/tunneldiodebarrier.png)"
   ]
  },
  {
   "cell_type": "markdown",
   "metadata": {
    "collapsed": false
   },
   "source": [
    "# How does a Tunnel Diode work?\n",
    "In ordinary diodes, current is produced when the applied voltage is greater than the built-in voltage of the depletion region. But in tunnel diodes, a small voltage which is less than the built-in voltage of depletion region is enough to produce electric current.\n",
    "In tunnel diodes, the electrons need not overcome the opposing force from the depletion layer to produce electric current. The electrons can directly tunnel from the conduction band of n-region into the valence band of p-region. Thus, electric current is produced in tunnel diode."
   ]
  },
  {
   "cell_type": "markdown",
   "metadata": {
    "collapsed": false
   },
   "source": [
    "# Step One: Unbiased Tunnel Diode\n",
    "When no voltage is applied to the tunnel diode, it is said to be an unbiased tunnel diode. In tunnel diode, the conduction band of the n-type material overlaps with the valence band of the p-type material because of the heavy doping.\n",
    "Because of this overlapping, the conduction band electrons at n-side and valence band holes at p-side are nearly at the same energy level. So when the temperature increases, some electrons tunnel from the conduction band of n-region to the valence band of p-region. In a similar way, holes tunnel from the valence band of p-region to the conduction band of n-region.\n",
    "However, the net current flow will be zero because an equal number of charge carriers (free electrons and holes) flow in opposite directions."
   ]
  },
  {
   "cell_type": "markdown",
   "metadata": {
    "collapsed": false
   },
   "source": [
    "![StepOne](./TunnelDiode/StepOne.png)"
   ]
  },
  {
   "cell_type": "markdown",
   "metadata": {
    "collapsed": false
   },
   "source": [
    "# Step Two: Small voltage is applied\n",
    "When a small voltage is applied to the tunnel diode which is less than the built-in voltage of the depletion layer, no forward current flows through the junction.\n",
    "However, a small number of electrons in the conduction band of the n-region will tunnel to the empty states of the valence band in p-region. This will create a small forward bias tunnel current. Thus, tunnel current starts flowing with a small application of voltage."
   ]
  },
  {
   "cell_type": "markdown",
   "metadata": {
    "collapsed": false
   },
   "source": [
    "![StepTwo](./TunnelDiode/StepTwo.png)"
   ]
  },
  {
   "cell_type": "markdown",
   "metadata": {
    "collapsed": false
   },
   "source": [
    "# Step Three: Voltage is sligthly increased\n",
    "When the voltage applied to the tunnel diode is slightly increased, a large number of free electrons at n-side and holes at p-side are generated. Because of the increase in voltage, the overlapping of the conduction band and valence band is increased.\n",
    "In simple words, the energy level of an n-side conduction band becomes exactly equal to the energy level of a p-side valence band. As a result, maximum tunnel current flows."
   ]
  },
  {
   "cell_type": "markdown",
   "metadata": {
    "collapsed": false
   },
   "source": [
    "![StepThree](./TunnelDiode/StepThree.png)"
   ]
  },
  {
   "cell_type": "markdown",
   "metadata": {
    "collapsed": false
   },
   "source": [
    "# Step Four: Voltage is further increased\n",
    "If the applied voltage is further increased, a slight misalign of the conduction band and valence band takes place. Since the conduction band of the n-type material and the valence band of the p-type material sill overlap. The electrons tunnel from the conduction band of n-region to the valence band of p-region and cause a small current flow. Thus, the tunneling current starts decreasing."
   ]
  },
  {
   "cell_type": "markdown",
   "metadata": {
    "collapsed": false
   },
   "source": [
    "![StepFour](./TunnelDiode/StepFour.png)"
   ]
  },
  {
   "cell_type": "markdown",
   "metadata": {
    "collapsed": false
   },
   "source": [
    "# Step Five: Voltage is largely increased\n",
    "If the applied voltage is largely increased, the tunneling current drops to zero. At this point, the conduction band and valence band no longer overlap and the tunnel diode operates in the same manner as a normal p-n junction diode. If this applied voltage is greater than the built-in potential of the depletion layer, the regular forward current starts flowing through the tunnel diode.\n",
    "The portion of the curve in which current decreases as the voltage increases is the negative resistance region of the tunnel diode.\n",
    "The negative resistance region is the most important and most widely used characteristic of the tunnel diode.\n",
    "A tunnel diode operating in the negative resistance region can be used as an amplifier or an oscillator."
   ]
  },
  {
   "cell_type": "markdown",
   "metadata": {
    "collapsed": false
   },
   "source": [
    "![StepFive](./TunnelDiode/StepFive.png)"
   ]
  },
  {
   "cell_type": "markdown",
   "metadata": {
    "collapsed": false
   },
   "source": [
    "# V-I Characteristics of Tunnel Diode\n",
    "The maximum current that a diode reaches is Ip and voltage applied is Vp. The current value decreases, when more amount of voltage is applied. Current keeps decreasing until it reaches a minimal value.\n",
    "The small minimal value of current is Iv. From the above graph, it is seen that from point A to B current reduces when voltage increases. That is the negative resistance region of diode. In this region, tunnel diode produces power instead of absorbing it."
   ]
  },
  {
   "cell_type": "markdown",
   "metadata": {
    "collapsed": false
   },
   "source": [
    "![VICC](./TunnelDiode/VICharacteristics.png)"
   ]
  },
  {
   "cell_type": "markdown",
   "metadata": {
    "collapsed": false
   },
   "source": [
    "# What is Negative Resistance in Tunnel Diode?\n",
    "It is shown above in the graph that between the point Iv and Ip the current starts decreasing when the voltage is applied to it. This region of the graph is known as the negative resistance region. It is the most important characteristic of the tunnel diode. In this region, the tunnel diode generates the power instead of absorbing it."
   ]
  },
  {
   "cell_type": "markdown",
   "metadata": {
    "collapsed": false
   },
   "source": [
    "# Advantages and Disadvantages of Tunnel Diodes\n",
    "Advantages\n",
    "+ Long life\n",
    "+ High-speed operation\n",
    "+ Low noise\n",
    "+ Low power consumption\n",
    "\n",
    "Disadvantages\n",
    "- Tunnel diodes cannot be fabricated in large numbers\n",
    "- Being a two terminal device, the input and output are not isolated from one another"
   ]
  },
  {
   "cell_type": "markdown",
   "metadata": {
    "collapsed": false
   },
   "source": [
    "# Tunnel diode usage\n",
    "Tunnel diodes are widely used in high-speed switching and oscillation applications due to their ability to operate at extremely fast speeds. Their negative resistance characteristic allows them to function efficiently in microwave and millimeter-wave frequencies, making them ideal for use in oscillators, amplifiers, and mixers in communication systems. Tunnel diodes are also used in certain types of pulse circuits and in frequency modulators for radar and satellite systems. In addition, they can be applied in high-frequency signal detection and low-noise amplifiers, where their fast response and low power consumption provide significant advantages over other semiconductor devices. Their unique properties make them valuable in a variety of applications that require rapid switching and high-frequency performance."
   ]
  },
  {
   "cell_type": "markdown",
   "metadata": {
    "collapsed": false
   },
   "source": [
    "# Conclusion\n",
    "In this article, we explored the concept of tunnel diodes, their unique properties, structure, and applications in electronic circuits. Tunnel diodes are a type of diode that exhibit quantum tunneling, allowing them to function in ways that differ from traditional diodes. This project focused on understanding their I-V characteristics, the effect of heavy doping on their behavior, and their potential in high-speed switching and oscillatory applications. Tunnel diodes are vital in various advanced electronic systems, contributing to faster and more efficient circuits. The study of tunnel diodes highlights their significance in modern electronics and provides a foundation for future research and development in this area."
   ]
  },
  {
   "cell_type": "markdown",
   "metadata": {
    "collapsed": false
   },
   "source": [
    "# Sources\n",
    "https://www.physics-and-radio-electronics.com/electronic-devices-and-circuits/semiconductor-diodes/tunneldiode-howitworks.html\n",
    "https://circuitglobe.com/tunnel-diode.html\n",
    "https://www.geeksforgeeks.org/tunnel-diode/\n",
    "https://www.electronicshub.org/tunnel-diode-working-characteristics-applications/\n",
    "https://www.electrical4u.com/tunnel-diode/#What-is-a-Tunnel-Diode"
   ]
  },
  {
   "cell_type": "markdown",
   "metadata": {
    "collapsed": false
   },
   "source": []
  }
 ],
 "metadata": {
  "kernelspec": {
   "display_name": "Python 3",
   "language": "python",
   "name": "python3"
  },
  "language_info": {
   "codemirror_mode": {
    "name": "ipython",
    "version": 2
   },
   "file_extension": ".py",
   "mimetype": "text/x-python",
   "name": "python",
   "nbconvert_exporter": "python",
   "pygments_lexer": "ipython2",
   "version": "2.7.6"
  }
 },
 "nbformat": 4,
 "nbformat_minor": 0
}
