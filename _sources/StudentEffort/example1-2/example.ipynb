{
 "cells": [
  {
   "cell_type": "markdown",
   "id": "c784d349",
   "metadata": {},
   "source": [
    "# Example: currect and charge relation \n",
    "\n",
    "Author: Reza Mohammadi\n",
    "\n",
    "email: mohamadi.reza@mail.um.ir"
   ]
  },
  {
   "cell_type": "markdown",
   "id": "cabb3af3",
   "metadata": {},
   "source": [
    "![-](pic\\2.jpg)"
   ]
  },
  {
   "cell_type": "markdown",
   "id": "469cd794",
   "metadata": {},
   "source": [
    "# The question asks us to:\n",
    "\n",
    "1_Determine the current i(t): Using the given charge q(t) versus time graph (Figure 1-1(a)), calculate the current in each time interval. The relationship i(t) = dq/dt should be used.\n",
    "\n",
    "2_Sketch the current i(t):  After calculating the current in each interval, plot the corresponding current i(t) as a function of time.\n",
    "\n",
    "In summary:\n",
    "\n",
    "Calculate i(t) for different time intervals.\n",
    "\n",
    "Draw the current waveform."
   ]
  },
  {
   "cell_type": "markdown",
   "id": "e173aae2",
   "metadata": {},
   "source": [
    "![-](pic\\photo_2024-11-27_11-44-53-1.jpg)"
   ]
  },
  {
   "cell_type": "markdown",
   "id": "588912f0",
   "metadata": {},
   "source": [
    "# Answer:\n",
    "\n",
    "\n",
    "To solve this problem and determine the current i(t) from the charge graph q(t),  we need to calculate the slope of the q(t) graph in each time interval. The current i(t) is equal to the slope (dq/dt) in interval.\n",
    "\n",
    "\n"
   ]
  },
  {
   "cell_type": "markdown",
   "id": "5739b1de",
   "metadata": {},
   "source": [
    "# step to solve:\n",
    "\n",
    "Time Intervals:\n",
    "\n",
    "The q(t) graph in Figure \n",
    "𝑎\n",
    "a is divided into several time intervals, each with a distinct slope:\n",
    "\n",
    "1_From 𝑡=0 t=0 to 𝑡 = 4:The graph is linearly increasing.\n",
    "\n",
    "2_From t = 4 to t = 8:The graph is linearly decreasing.\n",
    "\n",
    "3_From t = 8 to 𝑡 = 12:The graph is linearly increasing.\n",
    "\n",
    "4_From t = 12 to t = 16:The graph is linearly decreasing."
   ]
  },
  {
   "cell_type": "markdown",
   "id": "40cb371f",
   "metadata": {},
   "source": [
    "# Calculating Current:\n",
    "\n",
    "The slope (Δq/Δt) in each time interval is calculated as follows:\n",
    "\n",
    "1-For 0≤𝑡<4:\n",
    "\n",
    "            Δq/Δt = 10-0/4-0 = 2.5A.\n",
    "\n",
    "2-For 4≤𝑡<8:\n",
    "\n",
    "            Δq/Δt = 0-10/8-4 = -2.5A.\n",
    "\n",
    "3-For 8≤𝑡<12:\n",
    "\n",
    "            Δq/Δt = 10-0/12-8 = 2.5A.\n",
    "\n",
    "4-For 12≤𝑡<16:\n",
    "\n",
    "            Δq/Δt = 0-10/16-12 = -2.5A."
   ]
  },
  {
   "cell_type": "markdown",
   "id": "7aa0e533",
   "metadata": {},
   "source": [
    "# Result:\n",
    "\n",
    "The current in each interval is as follows:\n",
    "\n",
    "1_From 𝑡=0 to 𝑡=4: i(t) =               2.5A.\n",
    "\n",
    "2_From 𝑡=4 to 𝑡=8: i(t) =              -2.5A.\n",
    "\n",
    "3_From 𝑡=8 to 𝑡=12: i(t) =              2.5A.\n",
    "\n",
    "4_From 𝑡=12 to 𝑡=16: i(t) =            -2.5A.\n",
    "\n",
    "This current waveform i(t) matches exactly with the graph shown in down."
   ]
  },
  {
   "cell_type": "markdown",
   "id": "6aa92ead",
   "metadata": {},
   "source": [
    "![-](pic\\photo_2024-11-27_11-44-53-2.jpg)"
   ]
  }
 ],
 "metadata": {
  "kernelspec": {
   "display_name": "Python 3 (ipykernel)",
   "language": "python",
   "name": "python3"
  },
  "language_info": {
   "codemirror_mode": {
    "name": "ipython",
    "version": 3
   },
   "file_extension": ".py",
   "mimetype": "text/x-python",
   "name": "python",
   "nbconvert_exporter": "python",
   "pygments_lexer": "ipython3",
   "version": "3.11.4"
  }
 },
 "nbformat": 4,
 "nbformat_minor": 5
}
